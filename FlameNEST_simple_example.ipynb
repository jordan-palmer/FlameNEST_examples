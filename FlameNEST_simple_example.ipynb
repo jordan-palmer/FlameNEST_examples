{
  "nbformat": 4,
  "nbformat_minor": 0,
  "metadata": {
    "colab": {
      "name": "FlameNEST_simple_example.ipynb",
      "provenance": [],
      "authorship_tag": "ABX9TyNfHZafgXs6Czv2heeJB93T",
      "include_colab_link": true
    },
    "kernelspec": {
      "name": "python3",
      "display_name": "Python 3"
    },
    "language_info": {
      "name": "python"
    }
  },
  "cells": [
    {
      "cell_type": "markdown",
      "metadata": {
        "id": "view-in-github",
        "colab_type": "text"
      },
      "source": [
        "<a href=\"https://colab.research.google.com/github/jordan-palmer/FlameNEST_examples/blob/main/FlameNEST_simple_example.ipynb\" target=\"_parent\"><img src=\"https://colab.research.google.com/assets/colab-badge.svg\" alt=\"Open In Colab\"/></a>"
      ]
    },
    {
      "cell_type": "markdown",
      "source": [
        "### Simple Example\n",
        "This notebook aims to demonstrate the core concept of FlameNEST in the most basic way. Take a basic simulation where the some number of photons, $N$, are samples from a Poisson distribution then smeared by a Gaussian to obtain some signal, $S$. i.e \\\n",
        "\n",
        "\n",
        "$N \\sim Poisson(\\lambda = 50)$\\\n",
        "$S \\sim Gaussian(\\mu = N,\\sigma = 0.1 \\sqrt{N})$\n",
        "\n",
        "\n",
        "We know could run many simulations of this type and evaluate the probability density, $P(s)$, at each observed signal, $s$. Or, we could evaluate the $P(s)$ directly for each $s$ by using the following relation \\\n",
        "\n",
        "\n",
        "$P(s) = \\sum_{n} P(s|n)P(n) = Gaussian(x=s-n, 0.1\\sqrt{n})*Poisson(n|\\lambda)$\n",
        "\n",
        "\n",
        "This is precisely what FlameNEST does which requires no MC simulations and allows us to determine $P(s)$ for every observed $s$. \n",
        "_____\n",
        "No GPU is needed."
      ],
      "metadata": {
        "id": "8SVCEWZb3l6L"
      }
    },
    {
      "cell_type": "code",
      "execution_count": 11,
      "metadata": {
        "id": "I-xODsMv3i2t"
      },
      "outputs": [],
      "source": [
        "import math\n",
        "import numpy as np\n",
        "import matplotlib.pyplot as plt\n",
        "import scipy.stats"
      ]
    },
    {
      "cell_type": "code",
      "source": [
        "def PDF(s):\n",
        "  \"\"\" PDF\n",
        "  input: signal, s\n",
        "  output: probability density as signal s\n",
        "  This function demonstrates the core concept of FlameNEST\n",
        "  lambda = 50, for this simple example\n",
        "  \"\"\"\n",
        "  lambda_ = 50\n",
        "  def Poisson__(n,lambda_):\n",
        "      return (lambda_**n * np.exp(-1*lambda_))/math.factorial(n)\n",
        "  def Gaussian__(s,n):\n",
        "      sigma = 0.1*np.sqrt(n)\n",
        "      return (np.exp((-1*(s-n)**2)/(2*(sigma)**2))/np.sqrt(2*np.pi*sigma**2))\n",
        "  prob = 0\n",
        "  for i in range(100):\n",
        "      j = i+1\n",
        "      prob += Gaussian__(s,j)*Poisson__(j,lambda_)\n",
        "      #out += binom__(s,0.2,1)*Poisson__(j,lambda_)\n",
        "  return prob "
      ],
      "metadata": {
        "id": "5mYdKRDm3wr4"
      },
      "execution_count": 12,
      "outputs": []
    },
    {
      "cell_type": "code",
      "source": [
        "def MCSim(lambda_=50):\n",
        "  \"\"\" MC Sim\n",
        "  input: lambda_ = 50\n",
        "  output: one simulation result\n",
        "  This function demonstrates a simple MC simulation\n",
        "  \"\"\"\n",
        "  data_poisson = scipy.stats.poisson.rvs(mu=lambda_, size=1)\n",
        "  data_norm = scipy.stats.norm.rvs(size=1,loc=data_poisson,scale=0.1*np.sqrt(data_poisson))\n",
        "  return data_norm"
      ],
      "metadata": {
        "id": "orCFtANL4Had"
      },
      "execution_count": 13,
      "outputs": []
    },
    {
      "cell_type": "markdown",
      "source": [
        "Run a bunch of MC simulations and append the signal to a list\n",
        "\n"
      ],
      "metadata": {
        "id": "SfXGoENA4p5U"
      }
    },
    {
      "cell_type": "code",
      "source": [
        "mc = []\n",
        "for i in range(100000):\n",
        "    mc.append(MCSim())\n",
        "mc = np.concatenate(mc).ravel()"
      ],
      "metadata": {
        "id": "O8pK_66t4fmv"
      },
      "execution_count": 15,
      "outputs": []
    },
    {
      "cell_type": "markdown",
      "source": [
        "Evaluate the P(s) for a range of n\n",
        "\n",
        "\n"
      ],
      "metadata": {
        "id": "ObirURya49Sr"
      }
    },
    {
      "cell_type": "code",
      "source": [
        "signals = np.linspace(20,80,1000,dtype='int') #we know a priori what range of n produces non-zero probability of producing a signal, s\n",
        "output = []\n",
        "for signal in signals:\n",
        "    output.append(PDF(signal))"
      ],
      "metadata": {
        "id": "bUfW5rnY4xjP"
      },
      "execution_count": 18,
      "outputs": []
    },
    {
      "cell_type": "markdown",
      "source": [
        "Let's compare to convince ourselves that these are equivalent"
      ],
      "metadata": {
        "id": "a5WqeGNS7FPW"
      }
    },
    {
      "cell_type": "code",
      "source": [
        "plt.figure(figsize=(8,6))\n",
        "plt.plot(signals,np.asarray(output),color='r',linewidth=2,label='Flamedisx method')\n",
        "plt.hist(mc,bins=50,density=True,color='darkblue',histtype='step',linewidth=2)\n",
        "plt.hist(mc,bins=50,density=True,color='dodgerblue',label='MC',histtype='stepfilled')\n",
        "plt.legend(fontsize=14,frameon=False)\n",
        "plt.xlabel(r'Signal size, $S$',fontsize=14)\n",
        "plt.ylabel('Probability',fontsize=14)"
      ],
      "metadata": {
        "colab": {
          "base_uri": "https://localhost:8080/",
          "height": 415
        },
        "id": "RGShpOOd60Kf",
        "outputId": "33045ca2-bbae-4f20-c93f-68a0497b697c"
      },
      "execution_count": 19,
      "outputs": [
        {
          "output_type": "execute_result",
          "data": {
            "text/plain": [
              "Text(0, 0.5, 'Probability')"
            ]
          },
          "metadata": {},
          "execution_count": 19
        },
        {
          "output_type": "display_data",
          "data": {
            "text/plain": [
              "<Figure size 576x432 with 1 Axes>"
            ],
            "image/png": "[encoded data removed]"
          },
          "metadata": {
            "needs_background": "light"
          }
        }
      ]
    }
  ]
}