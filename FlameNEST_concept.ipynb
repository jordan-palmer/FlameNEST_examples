
{
  "nbformat": 4,
  "nbformat_minor": 0,
  "metadata": {
    "colab": {
      "name": "FlameNEST.ipynb",
      "provenance": [],
      "collapsed_sections": [
        "GEz1nAGGHCZb"
      ],
      "authorship_tag": "ABX9TyMprk9BTkAhefR9bQNBlL87",
      "include_colab_link": true
    },
    "kernelspec": {
      "name": "python3",
      "display_name": "Python 3"
    },
    "language_info": {
      "name": "python"
    },
    "accelerator": "GPU"
  },
  
}
