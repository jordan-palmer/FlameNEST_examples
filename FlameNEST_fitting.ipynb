{
  "nbformat": 4,
  "nbformat_minor": 0,
  "metadata": {
    "colab": {
      "name": "FlameNEST_fitting.ipynb",
      "provenance": [],
      "collapsed_sections": [],
      "authorship_tag": "ABX9TyNXmGZnDZFUufASooQIlygV",
      "include_colab_link": true
    },
    "kernelspec": {
      "name": "python3",
      "display_name": "Python 3"
    },
    "language_info": {
      "name": "python"
    },
    "accelerator": "GPU"
  },
  "cells": [
    {
      "cell_type": "markdown",
      "metadata": {
        "id": "view-in-github",
        "colab_type": "text"
      },
      "source": [
        "<a href=\"https://colab.research.google.com/github/jordan-palmer/FlameNEST_examples/blob/main/FlameNEST_fitting.ipynb\" target=\"_parent\"><img src=\"https://colab.research.google.com/assets/colab-badge.svg\" alt=\"Open In Colab\"/></a>"
      ]
    },
    {
      "cell_type": "markdown",
      "source": [
        "### FlameNEST Fitting\n",
        "This notebook aims to demonstrate the fitting capabilities of FlameNEST. FlameNEST can accurately fit nuisance parameters by minimising the likelihood."
      ],
      "metadata": {
        "id": "d7FYlKBcI-WB"
      }
    },
    {
      "cell_type": "markdown",
      "source": [
        "First, we need to install FlameNEST"
      ],
      "metadata": {
        "id": "FgSrgPK1JOpU"
      }
    },
    {
      "cell_type": "code",
      "execution_count": 1,
      "metadata": {
        "id": "Z_VcT1vPIysS"
      },
      "outputs": [],
      "source": [
        "%%capture\n",
        "##\n",
        "# Flamedisx colab setup\n",
        "##\n",
        "import sys\n",
        "%tensorflow_version 2.x\n",
        "!git clone https://github.com/robertsjames/flamedisx.git\n",
        "%cd flamedisx\n",
        "!git checkout RJ-test_fits\n",
        "!python setup.py develop\n",
        "%cd .."
      ]
    },
    {
      "cell_type": "code",
      "source": [
        "!cp flamedisx/flamedisx/TFP_files/* ../usr/local/lib/python3.7/dist-packages/tensorflow_probability/python/distributions/"
      ],
      "metadata": {
        "id": "7QypgCXFJRT4"
      },
      "execution_count": 2,
      "outputs": []
    },
    {
      "cell_type": "markdown",
      "source": [
        "Check the GPU"
      ],
      "metadata": {
        "id": "zv8D74yrLe1W"
      }
    },
    {
      "cell_type": "code",
      "source": [
        "!nvidia-smi"
      ],
      "metadata": {
        "colab": {
          "base_uri": "https://localhost:8080/"
        },
        "id": "2uOedIaBLbiy",
        "outputId": "f7dbcfbf-2dbd-4b0c-9c7d-59c365ae0696"
      },
      "execution_count": 3,
      "outputs": [
        {
          "output_type": "stream",
          "name": "stdout",
          "text": [
            "Mon Mar 21 16:28:54 2022       \n",
            "+-----------------------------------------------------------------------------+\n",
            "| NVIDIA-SMI 460.32.03    Driver Version: 460.32.03    CUDA Version: 11.2     |\n",
            "|-------------------------------+----------------------+----------------------+\n",
            "| GPU  Name        Persistence-M| Bus-Id        Disp.A | Volatile Uncorr. ECC |\n",
            "| Fan  Temp  Perf  Pwr:Usage/Cap|         Memory-Usage | GPU-Util  Compute M. |\n",
            "|                               |                      |               MIG M. |\n",
            "|===============================+======================+======================|\n",
            "|   0  Tesla P100-PCIE...  Off  | 00000000:00:04.0 Off |                    0 |\n",
            "| N/A   44C    P0    28W / 250W |      0MiB / 16280MiB |      0%      Default |\n",
            "|                               |                      |                  N/A |\n",
            "+-------------------------------+----------------------+----------------------+\n",
            "                                                                               \n",
            "+-----------------------------------------------------------------------------+\n",
            "| Processes:                                                                  |\n",
            "|  GPU   GI   CI        PID   Type   Process name                  GPU Memory |\n",
            "|        ID   ID                                                   Usage      |\n",
            "|=============================================================================|\n",
            "|  No running processes found                                                 |\n",
            "+-----------------------------------------------------------------------------+\n"
          ]
        }
      ]
    },
    {
      "cell_type": "markdown",
      "source": [
        "Restart the runtime and continue"
      ],
      "metadata": {
        "id": "FKQgU0W4JVY2"
      }
    },
    {
      "cell_type": "code",
      "source": [
        "import numpy as np\n",
        "import matplotlib.pyplot as plt\n",
        "import flamedisx as fd\n",
        "from time import clock\n",
        "import time\n",
        "import tqdm\n",
        "import tensorflow as tf"
      ],
      "metadata": {
        "colab": {
          "base_uri": "https://localhost:8080/"
        },
        "id": "uSHQtlQdJS0Y",
        "outputId": "2b3ba71f-303e-4a68-8850-086aa689f4fb"
      },
      "execution_count": 1,
      "outputs": [
        {
          "output_type": "stream",
          "name": "stdout",
          "text": [
            "Did not find 6luf3gtmmu in cache, downloading https://raw.githubusercontent.com/XENON1T/pax/master/pax/data/XENON1T_s1_xyz_ly_kr83m_SR0_pax-642_fdc-AdCorrTPF.json\n",
            "Did not find s4rqbgz5ez in cache, downloading https://raw.githubusercontent.com/XENON1T/pax/master/pax/data/XENON1T_s2_xy_ly_SR0_24Feb2017.json\n"
          ]
        }
      ]
    },
    {
      "cell_type": "markdown",
      "source": [
        "What are the current fittable parameters in the LUX ER source?\n",
        "\n",
        "In this source, we can float g1 and elife"
      ],
      "metadata": {
        "id": "1t4vwPdcJfgI"
      }
    },
    {
      "cell_type": "code",
      "source": [
        "fd.lux.LUXERSource().print_config()"
      ],
      "metadata": {
        "colab": {
          "base_uri": "https://localhost:8080/"
        },
        "id": "wboP1ZxOJcIJ",
        "outputId": "10e1af1e-8bae-47c7-e778-d92c8395a91a"
      },
      "execution_count": 2,
      "outputs": [
        {
          "output_type": "stream",
          "name": "stdout",
          "text": [
            "Parameter                               Default             \n",
            "------------------------------------------------------------\n",
            "elife                                   800000.0            \n",
            "g1                                      0.117               \n",
            "\n",
            "Constant (could be made a function)     Default             \n",
            "------------------------------------------------------------\n",
            "double_pe_fraction                      0.173               \n",
            "electron_acceptance                     1.0                 \n",
            "energy_spectrum_rate_multiplier         1.0                 \n",
            "s2_photon_acceptance                    1.0                 \n",
            "\n",
            "Other attribute                         Default             \n",
            "------------------------------------------------------------\n",
            "check_acceptances                       True                \n",
            "check_efficiencies                      True                \n",
            "drift_velocity                          0.000147525020107...\n",
            "energies                                tf.Tensor([ 0.   ...\n",
            "radius                                  20.0                \n",
            "rates_vs_energy                         tf.Tensor([1. 1. ...\n",
            "t_start                                 2019-09-01 08:28:00 \n",
            "t_stop                                  2020-09-01 08:28:00 \n",
            "z_bottom                                9.48486886727597    \n",
            "z_top                                   48.874049235922904  \n",
            "z_topDrift                              54.48               \n",
            "\n"
          ]
        }
      ]
    },
    {
      "cell_type": "markdown",
      "source": [
        "Let's try and fit g1!\n",
        "\n",
        "We will fit parameters out from MC data simulated with FlameNEST"
      ],
      "metadata": {
        "id": "N6GR8pKeJzlD"
      }
    },
    {
      "cell_type": "code",
      "source": [
        "# 'par name': (minimum, maximum, number of anchor points)\n",
        "nuisance_range = {'g1':(0.09, 0.15, 2)}\n",
        "# how many events to fit\n",
        "n_events = 100\n",
        "# energy of the ER source\n",
        "min_energy = 40\n",
        "max_energy = 40\n",
        "num_energies = 1\n",
        "### Only need to construct likelihood once if your models are constant\n",
        "# sources: sources we want to fit against the data\n",
        "# batch size: how many events per batch\n",
        "# free_rates: keep the number of ER events floatable\n",
        "Likelihood = fd.LogLikelihood(sources = dict(er=fd.lux.LUXERSource),\n",
        "                              batch_size = 20,\n",
        "                              free_rates = ('er'),\n",
        "                              arguments = dict(er={'energy_min':min_energy, 'energy_max':max_energy, 'num_energies':num_energies}),\n",
        "                              g1 = nuisance_range['g1'])\n",
        "\n",
        "### Simulate dataset and pass it in\n",
        "Likelihood.set_data(fd.lux.LUXERSource(energy_min=min_energy, energy_max=max_energy, num_energies=num_energies).simulate(n_events))"
      ],
      "metadata": {
        "colab": {
          "base_uri": "https://localhost:8080/"
        },
        "id": "BTG4HyjlJjMQ",
        "outputId": "d6e5ea76-f337-4804-e1a1-f83ed80a8b04"
      },
      "execution_count": 3,
      "outputs": [
        {
          "output_type": "stream",
          "name": "stderr",
          "text": [
            "Estimating mus: 100%|██████████| 1/1 [00:01<00:00,  1.12s/it]\n"
          ]
        }
      ]
    },
    {
      "cell_type": "markdown",
      "source": [
        "Perform one fit and print the result"
      ],
      "metadata": {
        "id": "9yzdjbe8KoHJ"
      }
    },
    {
      "cell_type": "code",
      "source": [
        "Likelihood_guess = Likelihood.guess() # provide a guess (default values in the simulation)\n",
        "bestfit = Likelihood.bestfit(guess=Likelihood_guess, optimizer='scipy',use_hessian=True) # fit\n",
        "print(bestfit) # fit results"
      ],
      "metadata": {
        "colab": {
          "base_uri": "https://localhost:8080/"
        },
        "id": "Lf7CnZZTKbyY",
        "outputId": "f0983dc9-d6e1-411d-def7-535243946f91"
      },
      "execution_count": 4,
      "outputs": [
        {
          "output_type": "stream",
          "name": "stdout",
          "text": [
            "WARNING:tensorflow:@custom_gradient grad_fn has 'variables' in signature, but no ResourceVariables were used on the forward pass.\n",
            "WARNING:tensorflow:@custom_gradient grad_fn has 'variables' in signature, but no ResourceVariables were used on the forward pass.\n",
            "{'er_rate_multiplier': 100.00999380890163, 'g1': 0.11583652815192509}\n"
          ]
        }
      ]
    },
    {
      "cell_type": "markdown",
      "source": [
        "Okay, we fit the correct g1! \n",
        "\n",
        "Note: if the events we simulate contain large fluctuations, we might not fit the exact g1 and that is okay\n"
      ],
      "metadata": {
        "id": "j0DJhqKBMXQi"
      }
    },
    {
      "cell_type": "markdown",
      "source": [
        "Now we can take a look at how the likelihood looks with respect to g1. "
      ],
      "metadata": {
        "id": "ZabQHBjrM0qE"
      }
    },
    {
      "cell_type": "code",
      "source": [
        "input_param_values = np.linspace(nuisance_range['g1'][0], nuisance_range['g1'][1], 30)\n",
        "likelihood_evals = []\n",
        "for value in input_param_values:\n",
        "  input_values = {'g1':value}\n",
        "  likelihood_evals.append(Likelihood.minus2_ll(**input_values)[0])"
      ],
      "metadata": {
        "id": "c664u-YZKtuh"
      },
      "execution_count": 5,
      "outputs": []
    },
    {
      "cell_type": "code",
      "source": [
        "plt.figure(figsize=(8,6))\n",
        "plt.plot(input_param_values, likelihood_evals)\n",
        "plt.axvline(Likelihood_guess['g1'], color='r', linestyle='--', label='True '+'g1')\n",
        "plt.axvline(bestfit['g1'], color='green', linestyle='--', label='Fitted '+'g1')\n",
        "plt.xlabel('g1', fontsize=16)\n",
        "plt.ylabel('-2 * log(Likelihood)', fontsize=16)\n",
        "plt.yticks(fontsize=14)\n",
        "plt.xticks(fontsize=14)\n",
        "plt.legend(fontsize=14, frameon=False)\n",
        "plt.savefig('/content/g1fit.png',dpi=200)\n",
        "plt.show()"
      ],
      "metadata": {
        "colab": {
          "base_uri": "https://localhost:8080/",
          "height": 397
        },
        "id": "XX-46UMHM-_V",
        "outputId": "b5c7d13b-df6f-4451-d6f0-6fea271d3280"
      },
      "execution_count": 6,
      "outputs": [
        {
          "output_type": "display_data",
          "data": {
            "text/plain": [
              "<Figure size 576x432 with 1 Axes>"
            ],
            "image/png": "[encoded data removed]"
          },
          "metadata": {
            "needs_background": "light"
          }
        }
      ]
    },
    {
      "cell_type": "markdown",
      "source": [
        "Fit g1 and elifetime simultaneously"
      ],
      "metadata": {
        "id": "wfRR87HST2P2"
      }
    },
    {
      "cell_type": "code",
      "source": [
        "n_events = 200\n",
        "nuisance_range = {'elife':(700000, 900000, 2), 'g1':(0.09, 0.15, 2)}\n",
        "min_energy = 40\n",
        "max_energy = 40\n",
        "num_energies = 1\n",
        "### Only need to construct likelihood once if your models are constant\n",
        "Likelihood = fd.LogLikelihood(sources = dict(er=fd.lux.LUXERSource),\n",
        "                              batch_size = 20,\n",
        "                              progress=True,\n",
        "                              free_rates = ('er'),\n",
        "                              arguments = dict(er={'energy_min':min_energy, 'energy_max':max_energy, 'num_energies':num_energies}),\n",
        "                              g1 = nuisance_range['g1'],\n",
        "                              elife = nuisance_range['elife'])"
      ],
      "metadata": {
        "colab": {
          "base_uri": "https://localhost:8080/"
        },
        "id": "smghpcN5NN6Y",
        "outputId": "27e5afdf-4b06-41b3-cc46-0f59b6c892e1"
      },
      "execution_count": 8,
      "outputs": [
        {
          "output_type": "stream",
          "name": "stderr",
          "text": [
            "Estimating mus: 100%|██████████| 2/2 [00:01<00:00,  1.04it/s]\n"
          ]
        }
      ]
    },
    {
      "cell_type": "code",
      "source": [
        "Likelihood.set_data(fd.lux.LUXERSource(energy_min=min_energy, energy_max=max_energy, num_energies=1).simulate(n_events))\n",
        "bestfit = Likelihood.bestfit(guess=Likelihood.guess(), optimizer='scipy', use_hessian=True)\n",
        "print(bestfit)"
      ],
      "metadata": {
        "colab": {
          "base_uri": "https://localhost:8080/"
        },
        "id": "In9lwxJyT_kJ",
        "outputId": "1dbf857a-8db1-424d-f589-15a6e0eaf9eb"
      },
      "execution_count": 9,
      "outputs": [
        {
          "output_type": "stream",
          "name": "stdout",
          "text": [
            "{'er_rate_multiplier': 200.00998491385567, 'g1': 0.11678301052481438, 'elife': 837255.7946282167}\n"
          ]
        }
      ]
    },
    {
      "cell_type": "markdown",
      "source": [
        "Visualise the 2D likelihood function, takes a few minutes"
      ],
      "metadata": {
        "id": "LuEZSRY6UI62"
      }
    },
    {
      "cell_type": "code",
      "source": [
        "input_elife_values = np.linspace(nuisance_range['elife'][0], nuisance_range['elife'][1], 30)\n",
        "input_g1_values = np.linspace(nuisance_range['g1'][0], nuisance_range['g1'][1], 30)\n",
        "\n",
        "likelihood_evals = []\n",
        "for g1_value in input_g1_values:\n",
        "  inner_evals = []\n",
        "\n",
        "  for elife_value in input_elife_values:\n",
        "    input_values = {'g1':g1_value, 'elife':elife_value, 'er_rate_multiplier':bestfit['er_rate_multiplier']}\n",
        "    inner_evals.append(Likelihood.minus2_ll(**input_values)[0])\n",
        "\n",
        "  likelihood_evals.append(inner_evals)"
      ],
      "metadata": {
        "id": "Q6XdMqj7UCn5"
      },
      "execution_count": 11,
      "outputs": []
    },
    {
      "cell_type": "code",
      "source": [
        "X=np.asarray(input_g1_values)\n",
        "Y=np.asarray(input_elife_values)\n",
        "X, Y = np.meshgrid(X, Y, indexing='ij')\n",
        "Z=np.asarray(likelihood_evals)\n",
        "\n",
        "fig, ax = plt.subplots(constrained_layout=True)\n",
        "fig.set_size_inches(10,8)\n",
        "vmin = 3475\n",
        "vmax = 4725\n",
        "levels = np.linspace(vmin, vmax, 100)\n",
        "CS=ax.contourf(X, Y, Z, 100, cmap='GnBu', levels=levels, vmin=vmin, vmax=vmax)\n",
        "plt.scatter(bestfit['g1'], bestfit['elife'], color='g', label='Fitted values') # Fitted values\n",
        "plt.scatter(0.117, 800000, color='r', label='True Values') # Fitted values\n",
        "\n",
        "ax.set_xlabel('g1', fontsize=16)\n",
        "ax.set_ylabel('e-lifetime [ns]', fontsize=16)\n",
        "cbar = fig.colorbar(CS,)\n",
        "plt.yticks(fontsize=14)\n",
        "plt.xticks(fontsize=14)\n",
        "plt.legend(fontsize=14, frameon=False)\n",
        "plt.savefig('/content/2dfit.png', dpi=200)\n",
        "plt.show()"
      ],
      "metadata": {
        "colab": {
          "base_uri": "https://localhost:8080/",
          "height": 601
        },
        "id": "NnNqJbLsUMyg",
        "outputId": "26c8f341-9c78-4e83-a2b3-6a8fae9d6cd3"
      },
      "execution_count": 16,
      "outputs": [
        {
          "output_type": "display_data",
          "data": {
            "text/plain": [
              "<Figure size 720x576 with 2 Axes>"
            ],
            "image/png": "[encoded data removed]"
          },
          "metadata": {
            "needs_background": "light"
          }
        }
      ]
    },
    {
      "cell_type": "code",
      "source": [
        ""
      ],
      "metadata": {
        "id": "DlyLFjVZUusJ"
      },
      "execution_count": null,
      "outputs": []
    }
  ]
}